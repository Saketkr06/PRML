{
  "nbformat": 4,
  "nbformat_minor": 0,
  "metadata": {
    "colab": {
      "provenance": [],
      "authorship_tag": "ABX9TyNXCz/ZKQ+z4G7MBfpAW2MU",
      "include_colab_link": true
    },
    "kernelspec": {
      "name": "python3",
      "display_name": "Python 3"
    },
    "language_info": {
      "name": "python"
    }
  },
  "cells": [
    {
      "cell_type": "markdown",
      "metadata": {
        "id": "view-in-github",
        "colab_type": "text"
      },
      "source": [
        "<a href=\"https://colab.research.google.com/github/Saketkr06/PRML/blob/LInear-Regression/Linear_Models.ipynb\" target=\"_parent\"><img src=\"https://colab.research.google.com/assets/colab-badge.svg\" alt=\"Open In Colab\"/></a>"
      ]
    },
    {
      "cell_type": "code",
      "execution_count": 3,
      "metadata": {
        "id": "yz0q58ntWwKj"
      },
      "outputs": [],
      "source": [
        "import sympy\n",
        "from sympy import init_printing\n",
        "import numpy as np\n",
        "from numpy.linalg import inv\n",
        "\n",
        "init_printing()\n",
        "np.set_printoptions(precision=3,suppress=True)"
      ]
    },
    {
      "cell_type": "code",
      "source": [
        "phi_01=sympy.symbols('\\phi_{0}(x_1)')\n",
        "phi_02=sympy.symbols('\\phi_{0}(x_2)')\n",
        "\n",
        "phi_11 = sympy.symbols(\"\\phi_{1}(x_1)\")\n",
        "phi_12 = sympy.symbols(\"\\phi_{1}(x_2)\")\n",
        "\n",
        "phi_21 = sympy.symbols(\"\\phi_{2}(x_1)\")\n",
        "phi_22 = sympy.symbols(\"\\phi_{2}(x_2)\")"
      ],
      "metadata": {
        "id": "oHcMMfSNXeUV"
      },
      "execution_count": 4,
      "outputs": []
    },
    {
      "cell_type": "code",
      "source": [
        "Phi=sympy.Matrix([\n",
        "    [phi_01,phi_02],\n",
        "    [phi_11,phi_12],\n",
        "    [phi_21,phi_22]\n",
        "])"
      ],
      "metadata": {
        "id": "6gyT_YjoYeaM"
      },
      "execution_count": 6,
      "outputs": []
    },
    {
      "cell_type": "code",
      "source": [
        "# N: number of datapoints\n",
        "# M: number of basis functions\n",
        "Phi"
      ],
      "metadata": {
        "colab": {
          "base_uri": "https://localhost:8080/",
          "height": 78
        },
        "id": "kmi6k1h8Y0fe",
        "outputId": "4e0d6291-12f5-44a1-8d40-a8ddb8e325c3"
      },
      "execution_count": 7,
      "outputs": [
        {
          "output_type": "execute_result",
          "data": {
            "text/plain": [
              "⎡\\phi_{0}(x_1)  \\phi_{0}(x_2)⎤\n",
              "⎢                            ⎥\n",
              "⎢\\phi_{1}(x_1)  \\phi_{1}(x_2)⎥\n",
              "⎢                            ⎥\n",
              "⎣\\phi_{2}(x_1)  \\phi_{2}(x_2)⎦"
            ],
            "text/latex": "$\\displaystyle \\left[\\begin{matrix}\\phi_{0}(x_1) & \\phi_{0}(x_2)\\\\\\phi_{1}(x_1) & \\phi_{1}(x_2)\\\\\\phi_{2}(x_1) & \\phi_{2}(x_2)\\end{matrix}\\right]$"
          },
          "metadata": {},
          "execution_count": 7
        }
      ]
    },
    {
      "cell_type": "code",
      "source": [
        "E1=Phi.T @ Phi\n",
        "E1"
      ],
      "metadata": {
        "colab": {
          "base_uri": "https://localhost:8080/",
          "height": 78
        },
        "id": "aRjd0RmRZBKd",
        "outputId": "aaff5d7e-efe5-4b5f-f1c0-b7b6937b0815"
      },
      "execution_count": 8,
      "outputs": [
        {
          "output_type": "execute_result",
          "data": {
            "text/plain": [
              "⎡                                2                2                2          \n",
              "⎢                   \\phi_{0}(x_1)  + \\phi_{1}(x_1)  + \\phi_{2}(x_1)           \n",
              "⎢                                                                             \n",
              "⎢                                                                             \n",
              "⎣\\phi_{0}(x_1)⋅\\phi_{0}(x_2) + \\phi_{1}(x_1)⋅\\phi_{1}(x_2) + \\phi_{2}(x_1)⋅\\ph\n",
              "\n",
              "                                                                              \n",
              "            \\phi_{0}(x_1)⋅\\phi_{0}(x_2) + \\phi_{1}(x_1)⋅\\phi_{1}(x_2) + \\phi_{\n",
              "                                                                              \n",
              "                                            2                2                \n",
              "i_{2}(x_2)                     \\phi_{0}(x_2)  + \\phi_{1}(x_2)  + \\phi_{2}(x_2)\n",
              "\n",
              "                     ⎤\n",
              "2}(x_1)⋅\\phi_{2}(x_2)⎥\n",
              "                     ⎥\n",
              "2                    ⎥\n",
              "                     ⎦"
            ],
            "text/latex": "$\\displaystyle \\left[\\begin{matrix}\\phi_{0}(x_1)^{2} + \\phi_{1}(x_1)^{2} + \\phi_{2}(x_1)^{2} & \\phi_{0}(x_1) \\phi_{0}(x_2) + \\phi_{1}(x_1) \\phi_{1}(x_2) + \\phi_{2}(x_1) \\phi_{2}(x_2)\\\\\\phi_{0}(x_1) \\phi_{0}(x_2) + \\phi_{1}(x_1) \\phi_{1}(x_2) + \\phi_{2}(x_1) \\phi_{2}(x_2) & \\phi_{0}(x_2)^{2} + \\phi_{1}(x_2)^{2} + \\phi_{2}(x_2)^{2}\\end{matrix}\\right]$"
          },
          "metadata": {},
          "execution_count": 8
        }
      ]
    },
    {
      "cell_type": "code",
      "source": [
        "phi_0=sympy.Matrix([[phi_01,phi_02]]).T\n",
        "phi_1=sympy.Matrix([[phi_11,phi_12]]).T\n",
        "phi_2=sympy.Matrix([[phi_21,phi_22]]).T"
      ],
      "metadata": {
        "id": "rsxysHRDZk2a"
      },
      "execution_count": 10,
      "outputs": []
    },
    {
      "cell_type": "code",
      "source": [
        "E2=phi_0@phi_0.T + phi_1@phi_1.T + phi_2@phi_2.T\n",
        "E2"
      ],
      "metadata": {
        "colab": {
          "base_uri": "https://localhost:8080/",
          "height": 78
        },
        "id": "pOGhSZIOZKsB",
        "outputId": "054ab268-6ee8-4fea-ddeb-76e1a52d15fd"
      },
      "execution_count": 11,
      "outputs": [
        {
          "output_type": "execute_result",
          "data": {
            "text/plain": [
              "⎡                                2                2                2          \n",
              "⎢                   \\phi_{0}(x_1)  + \\phi_{1}(x_1)  + \\phi_{2}(x_1)           \n",
              "⎢                                                                             \n",
              "⎢                                                                             \n",
              "⎣\\phi_{0}(x_1)⋅\\phi_{0}(x_2) + \\phi_{1}(x_1)⋅\\phi_{1}(x_2) + \\phi_{2}(x_1)⋅\\ph\n",
              "\n",
              "                                                                              \n",
              "            \\phi_{0}(x_1)⋅\\phi_{0}(x_2) + \\phi_{1}(x_1)⋅\\phi_{1}(x_2) + \\phi_{\n",
              "                                                                              \n",
              "                                            2                2                \n",
              "i_{2}(x_2)                     \\phi_{0}(x_2)  + \\phi_{1}(x_2)  + \\phi_{2}(x_2)\n",
              "\n",
              "                     ⎤\n",
              "2}(x_1)⋅\\phi_{2}(x_2)⎥\n",
              "                     ⎥\n",
              "2                    ⎥\n",
              "                     ⎦"
            ],
            "text/latex": "$\\displaystyle \\left[\\begin{matrix}\\phi_{0}(x_1)^{2} + \\phi_{1}(x_1)^{2} + \\phi_{2}(x_1)^{2} & \\phi_{0}(x_1) \\phi_{0}(x_2) + \\phi_{1}(x_1) \\phi_{1}(x_2) + \\phi_{2}(x_1) \\phi_{2}(x_2)\\\\\\phi_{0}(x_1) \\phi_{0}(x_2) + \\phi_{1}(x_1) \\phi_{1}(x_2) + \\phi_{2}(x_1) \\phi_{2}(x_2) & \\phi_{0}(x_2)^{2} + \\phi_{1}(x_2)^{2} + \\phi_{2}(x_2)^{2}\\end{matrix}\\right]$"
          },
          "metadata": {},
          "execution_count": 11
        }
      ]
    },
    {
      "cell_type": "code",
      "source": [
        "E1==E2"
      ],
      "metadata": {
        "colab": {
          "base_uri": "https://localhost:8080/"
        },
        "id": "I9wc1bTBZdql",
        "outputId": "cd101ece-c5fd-49ee-86c9-fdee1ca16a05"
      },
      "execution_count": 12,
      "outputs": [
        {
          "output_type": "execute_result",
          "data": {
            "text/plain": [
              "True"
            ]
          },
          "metadata": {},
          "execution_count": 12
        }
      ]
    },
    {
      "cell_type": "markdown",
      "source": [
        "## Geometrical Representation for Least Squares"
      ],
      "metadata": {
        "id": "Su86kO0CaCF4"
      }
    },
    {
      "cell_type": "code",
      "source": [
        "def pseudoinverse(phi):\n",
        "  return inv(phi.T@phi)@phi.T"
      ],
      "metadata": {
        "id": "4e8_yHypZ_le"
      },
      "execution_count": 13,
      "outputs": []
    },
    {
      "cell_type": "code",
      "source": [
        "N,M=7,5\n",
        "Phi=np.random.randn(N,M)\n",
        "Phi@pseudoinverse(Phi)"
      ],
      "metadata": {
        "colab": {
          "base_uri": "https://localhost:8080/"
        },
        "id": "_DiTD175aSDR",
        "outputId": "8f395b01-dc4d-401f-91d9-0edfe3213d11"
      },
      "execution_count": 14,
      "outputs": [
        {
          "output_type": "execute_result",
          "data": {
            "text/plain": [
              "array([[ 0.505, -0.268, -0.12 , -0.227, -0.097,  0.264, -0.183],\n",
              "       [-0.268,  0.852, -0.067, -0.141, -0.027,  0.111, -0.13 ],\n",
              "       [-0.12 , -0.067,  0.969, -0.069, -0.004,  0.04 , -0.067],\n",
              "       [-0.227, -0.141, -0.069,  0.78 ,  0.116, -0.079, -0.276],\n",
              "       [-0.097, -0.027, -0.004,  0.116,  0.761,  0.326,  0.228],\n",
              "       [ 0.264,  0.111,  0.04 , -0.079,  0.326,  0.517, -0.232],\n",
              "       [-0.183, -0.13 , -0.067, -0.276,  0.228, -0.232,  0.616]])"
            ]
          },
          "metadata": {},
          "execution_count": 14
        }
      ]
    },
    {
      "cell_type": "code",
      "source": [
        "v=np.array([2,1,4,1,5,7,1]).reshape(-1,1)\n",
        "v"
      ],
      "metadata": {
        "colab": {
          "base_uri": "https://localhost:8080/"
        },
        "id": "sqWULRgOalQ3",
        "outputId": "c3e5ad47-7e18-407f-9150-0c42639c5b16"
      },
      "execution_count": 15,
      "outputs": [
        {
          "output_type": "execute_result",
          "data": {
            "text/plain": [
              "array([[2],\n",
              "       [1],\n",
              "       [4],\n",
              "       [1],\n",
              "       [5],\n",
              "       [7],\n",
              "       [1]])"
            ]
          },
          "metadata": {},
          "execution_count": 15
        }
      ]
    },
    {
      "cell_type": "code",
      "source": [
        "Phi@pseudoinverse(Phi)@v"
      ],
      "metadata": {
        "colab": {
          "base_uri": "https://localhost:8080/"
        },
        "id": "1csZ4CC_aulf",
        "outputId": "307a1ae6-5872-45ec-a5dd-67e7a82d8d45"
      },
      "execution_count": 16,
      "outputs": [
        {
          "output_type": "execute_result",
          "data": {
            "text/plain": [
              "array([[ 1.215],\n",
              "       [ 0.419],\n",
              "       [ 3.693],\n",
              "       [-0.34 ],\n",
              "       [ 6.195],\n",
              "       [ 5.735],\n",
              "       [-0.907]])"
            ]
          },
          "metadata": {},
          "execution_count": 16
        }
      ]
    },
    {
      "cell_type": "markdown",
      "source": [
        "Multiple Outputs"
      ],
      "metadata": {
        "id": "wxHM7Crua35i"
      }
    },
    {
      "cell_type": "code",
      "source": [
        "w11,w12,w21,w22=sympy.symbols('w_{11},w_{12},w_{21},w_{22}')\n",
        "x1,x2=sympy.symbols('x_1,x_2')\n",
        "\n",
        "W=sympy.Matrix([\n",
        "    [w11,w12],\n",
        "    [w21,w22]\n",
        "])\n",
        "x=sympy.Matrix([[x1,x2]]).T"
      ],
      "metadata": {
        "id": "41xa8Kf9a2Un"
      },
      "execution_count": 17,
      "outputs": []
    },
    {
      "cell_type": "code",
      "source": [
        "((W.T@x).T @ (W.T @ x))[0]"
      ],
      "metadata": {
        "colab": {
          "base_uri": "https://localhost:8080/",
          "height": 40
        },
        "id": "vkQ0l210bjhN",
        "outputId": "db7878c0-eb26-4855-9af2-4f86adbddffd"
      },
      "execution_count": 18,
      "outputs": [
        {
          "output_type": "execute_result",
          "data": {
            "text/plain": [
              "                       2                          2\n",
              "(w_{11}⋅x₁ + w_{21}⋅x₂)  + (w_{12}⋅x₁ + w_{22}⋅x₂) "
            ],
            "text/latex": "$\\displaystyle \\left(w_{11} x_{1} + w_{21} x_{2}\\right)^{2} + \\left(w_{12} x_{1} + w_{22} x_{2}\\right)^{2}$"
          },
          "metadata": {},
          "execution_count": 18
        }
      ]
    },
    {
      "cell_type": "code",
      "source": [
        "(W.T @ x)@x.T"
      ],
      "metadata": {
        "colab": {
          "base_uri": "https://localhost:8080/",
          "height": 58
        },
        "id": "Vx7JpBvHbw-G",
        "outputId": "6e5975d9-472d-4d9e-cc11-42598b7e77cb"
      },
      "execution_count": 19,
      "outputs": [
        {
          "output_type": "execute_result",
          "data": {
            "text/plain": [
              "⎡x₁⋅(w_{11}⋅x₁ + w_{21}⋅x₂)  x₂⋅(w_{11}⋅x₁ + w_{21}⋅x₂)⎤\n",
              "⎢                                                      ⎥\n",
              "⎣x₁⋅(w_{12}⋅x₁ + w_{22}⋅x₂)  x₂⋅(w_{12}⋅x₁ + w_{22}⋅x₂)⎦"
            ],
            "text/latex": "$\\displaystyle \\left[\\begin{matrix}x_{1} \\left(w_{11} x_{1} + w_{21} x_{2}\\right) & x_{2} \\left(w_{11} x_{1} + w_{21} x_{2}\\right)\\\\x_{1} \\left(w_{12} x_{1} + w_{22} x_{2}\\right) & x_{2} \\left(w_{12} x_{1} + w_{22} x_{2}\\right)\\end{matrix}\\right]$"
          },
          "metadata": {},
          "execution_count": 19
        }
      ]
    },
    {
      "cell_type": "code",
      "source": [],
      "metadata": {
        "id": "NY0wwob7b3VZ"
      },
      "execution_count": null,
      "outputs": []
    }
  ]
}